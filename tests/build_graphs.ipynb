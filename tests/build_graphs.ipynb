{
 "cells": [
  {
   "cell_type": "code",
   "execution_count": 1,
   "metadata": {},
   "outputs": [],
   "source": [
    "import os\n",
    "import pandas as pd\n",
    "import matplotlib.pyplot as plt\n",
    "import sys \n",
    "import json\n",
    "import cv2 as cv\n",
    "\n",
    "sys.path.append(\"../\")\n",
    "\n",
    "from common import *"
   ]
  },
  {
   "cell_type": "code",
   "execution_count": null,
   "metadata": {},
   "outputs": [],
   "source": [
    "\n",
    "\n",
    "path = \"/\".join(os.getcwd().split(\"/\")[:-1]) + \"/data/output/\"\n",
    "dirs = [path + d for d in os.listdir(path) if os.path.isdir(os.path.join(path, d))]\n",
    "dirs.sort()\n",
    "fullpath = dirs[-1]\n",
    "fullpath += \"/output.csv\"\n",
    "\n",
    "#complete run\n",
    "#fullpath = '/home/lollo/Documents/python/siv/SIV_project/data/output/run_1711060911/output.csv' \n",
    "\n",
    "#scale run\n",
    "#fullpath = '/home/lollo/Documents/python/siv/SIV_project/data/output/run_171109659/output.csv' \n",
    "\n",
    "#denoise run\n",
    "#fullpath = '/home/lollo/Documents/python/siv/SIV_project/data/output/run_1711096844/output.csv' \n",
    "\n",
    "data = pd.read_csv(fullpath)\n",
    "\n"
   ]
  },
  {
   "cell_type": "markdown",
   "metadata": {},
   "source": [
    "RUN all methods 10, 100, 1000, 3000, 6000 feat\n",
    "'/home/lollo/Documents/python/siv/SIV_project/data/output/run_1710931647/output.csv' "
   ]
  },
  {
   "cell_type": "code",
   "execution_count": null,
   "metadata": {},
   "outputs": [],
   "source": []
  },
  {
   "cell_type": "code",
   "execution_count": null,
   "metadata": {},
   "outputs": [],
   "source": [
    "data.sort_values(\"err_avg\")"
   ]
  },
  {
   "cell_type": "code",
   "execution_count": null,
   "metadata": {},
   "outputs": [],
   "source": [
    "orb_knn = data[(data[\"fm\"] == \"ORB\") & (data[\"matcher\"] == \"BF_LOWE\")].sort_values(\"steps_sec\")\n",
    "orb_flann = data[(data[\"fm\"] == \"ORB\") & (data[\"matcher\"] == \"FLANN_LOWE\")].sort_values(\"steps_sec\")\n",
    "sift_knn = data[(data[\"fm\"] == \"SIFT\") & (data[\"matcher\"] == \"BF_LOWE\")].sort_values(\"steps_sec\")\n",
    "sift_flann = data[(data[\"fm\"] == \"SIFT\") & (data[\"matcher\"] == \"FLANN_LOWE\")].sort_values(\"steps_sec\")\n",
    "\n",
    "plt.plot(\n",
    "    orb_knn[\"frame_time\"],\n",
    "    orb_knn[\"err_avg\"],\n",
    "    label=\"orb_bf\",\n",
    ")  # Replace 'x_column1' and 'y_column1' with the names of your columns\n",
    "plt.plot(\n",
    "    orb_flann[\"frame_time\"],\n",
    "    orb_flann[\"err_avg\"],\n",
    "    label=\"orb_flann\",\n",
    ")  # Replace 'x_column1' and 'y_column1' with the names of your columns\n",
    "plt.plot(\n",
    "    sift_knn[\"frame_time\"],\n",
    "    sift_knn[\"err_avg\"],\n",
    "    label=\"sift_bf\",\n",
    ")  # Replace 'x_column1' and 'y_column1' with the names of your columns\n",
    "plt.plot(\n",
    "    sift_flann[\"frame_time\"],\n",
    "    sift_flann[\"err_avg\"],\n",
    "    label=\"sift_flann\",\n",
    ")  # Replace 'x_column1' and 'y_column1' with the names of your columns\n",
    "\n",
    "\n",
    "\n",
    "# Add labels and title\n",
    "plt.xlabel(\"Frame Time [ms]\")  # Replace 'X-axis label' with the label for the x-axis\n",
    "plt.ylabel(\"error\")  # Replace 'Y-axis label' with the label for the y-axis\n",
    "\n",
    "# Add a legend\n",
    "plt.legend()\n",
    "\n",
    "# Display the plot\n",
    "plt.show()"
   ]
  },
  {
   "cell_type": "code",
   "execution_count": 2,
   "metadata": {},
   "outputs": [
    {
     "ename": "FileNotFoundError",
     "evalue": "[Errno 2] No such file or directory: '/home/lollo/Documents/python/siv/SIV_project/data/output/run_1711101222/eval_0/settings.json'",
     "output_type": "error",
     "traceback": [
      "\u001b[0;31m---------------------------------------------------------------------------\u001b[0m",
      "\u001b[0;31mFileNotFoundError\u001b[0m                         Traceback (most recent call last)",
      "Cell \u001b[0;32mIn[2], line 14\u001b[0m\n\u001b[1;32m     12\u001b[0m all_poses \u001b[38;5;241m=\u001b[39m []\n\u001b[1;32m     13\u001b[0m \u001b[38;5;28;01mfor\u001b[39;00m \u001b[38;5;28mdir\u001b[39m \u001b[38;5;129;01min\u001b[39;00m dirs:\n\u001b[0;32m---> 14\u001b[0m     settings \u001b[38;5;241m=\u001b[39m json\u001b[38;5;241m.\u001b[39mload(\u001b[38;5;28;43mopen\u001b[39;49m\u001b[43m(\u001b[49m\u001b[38;5;28;43mdir\u001b[39;49m\u001b[43m \u001b[49m\u001b[38;5;241;43m+\u001b[39;49m\u001b[43m \u001b[49m\u001b[38;5;124;43m\"\u001b[39;49m\u001b[38;5;124;43m/settings.json\u001b[39;49m\u001b[38;5;124;43m\"\u001b[39;49m\u001b[43m)\u001b[49m)\n\u001b[1;32m     15\u001b[0m     name \u001b[38;5;241m=\u001b[39m (\n\u001b[1;32m     16\u001b[0m         FM[\u001b[38;5;28mint\u001b[39m(settings[\u001b[38;5;124m\"\u001b[39m\u001b[38;5;124mfeat_match\u001b[39m\u001b[38;5;124m\"\u001b[39m])]\n\u001b[1;32m     17\u001b[0m         \u001b[38;5;241m+\u001b[39m \u001b[38;5;124m\"\u001b[39m\u001b[38;5;124m_\u001b[39m\u001b[38;5;124m\"\u001b[39m\n\u001b[0;32m   (...)\u001b[0m\n\u001b[1;32m     22\u001b[0m         \u001b[38;5;241m+\u001b[39m \u001b[38;5;28mstr\u001b[39m(settings[\u001b[38;5;124m\"\u001b[39m\u001b[38;5;124mdenoise\u001b[39m\u001b[38;5;124m\"\u001b[39m])\n\u001b[1;32m     23\u001b[0m     )\n\u001b[1;32m     25\u001b[0m     all_poses\u001b[38;5;241m.\u001b[39mappend(json\u001b[38;5;241m.\u001b[39mload(\u001b[38;5;28mopen\u001b[39m(\u001b[38;5;28mdir\u001b[39m \u001b[38;5;241m+\u001b[39m \u001b[38;5;124m\"\u001b[39m\u001b[38;5;124m/est.json\u001b[39m\u001b[38;5;124m\"\u001b[39m)))\n",
      "File \u001b[0;32m~/miniconda3/envs/sivenv/lib/python3.10/site-packages/IPython/core/interactiveshell.py:324\u001b[0m, in \u001b[0;36m_modified_open\u001b[0;34m(file, *args, **kwargs)\u001b[0m\n\u001b[1;32m    317\u001b[0m \u001b[38;5;28;01mif\u001b[39;00m file \u001b[38;5;129;01min\u001b[39;00m {\u001b[38;5;241m0\u001b[39m, \u001b[38;5;241m1\u001b[39m, \u001b[38;5;241m2\u001b[39m}:\n\u001b[1;32m    318\u001b[0m     \u001b[38;5;28;01mraise\u001b[39;00m \u001b[38;5;167;01mValueError\u001b[39;00m(\n\u001b[1;32m    319\u001b[0m         \u001b[38;5;124mf\u001b[39m\u001b[38;5;124m\"\u001b[39m\u001b[38;5;124mIPython won\u001b[39m\u001b[38;5;124m'\u001b[39m\u001b[38;5;124mt let you open fd=\u001b[39m\u001b[38;5;132;01m{\u001b[39;00mfile\u001b[38;5;132;01m}\u001b[39;00m\u001b[38;5;124m by default \u001b[39m\u001b[38;5;124m\"\u001b[39m\n\u001b[1;32m    320\u001b[0m         \u001b[38;5;124m\"\u001b[39m\u001b[38;5;124mas it is likely to crash IPython. If you know what you are doing, \u001b[39m\u001b[38;5;124m\"\u001b[39m\n\u001b[1;32m    321\u001b[0m         \u001b[38;5;124m\"\u001b[39m\u001b[38;5;124myou can use builtins\u001b[39m\u001b[38;5;124m'\u001b[39m\u001b[38;5;124m open.\u001b[39m\u001b[38;5;124m\"\u001b[39m\n\u001b[1;32m    322\u001b[0m     )\n\u001b[0;32m--> 324\u001b[0m \u001b[38;5;28;01mreturn\u001b[39;00m \u001b[43mio_open\u001b[49m\u001b[43m(\u001b[49m\u001b[43mfile\u001b[49m\u001b[43m,\u001b[49m\u001b[43m \u001b[49m\u001b[38;5;241;43m*\u001b[39;49m\u001b[43margs\u001b[49m\u001b[43m,\u001b[49m\u001b[43m \u001b[49m\u001b[38;5;241;43m*\u001b[39;49m\u001b[38;5;241;43m*\u001b[39;49m\u001b[43mkwargs\u001b[49m\u001b[43m)\u001b[49m\n",
      "\u001b[0;31mFileNotFoundError\u001b[0m: [Errno 2] No such file or directory: '/home/lollo/Documents/python/siv/SIV_project/data/output/run_1711101222/eval_0/settings.json'"
     ]
    }
   ],
   "source": [
    "\n",
    "\n",
    "path = \"/\".join(os.getcwd().split(\"/\")[:-1]) + \"/data/output/\"\n",
    "dirs = [path + d for d in os.listdir(path) if os.path.isdir(os.path.join(path, d))]\n",
    "dirs.sort()\n",
    "fullpath = dirs[-1]\n",
    "fullpath += \"/\"\n",
    "dirs = [\n",
    "    fullpath + d\n",
    "    for d in os.listdir(fullpath)\n",
    "    if os.path.isdir(os.path.join(fullpath, d))\n",
    "]\n",
    "\n",
    "all_poses = []\n",
    "for dir in dirs:\n",
    "    settings = json.load(open(dir + \"/settings.json\"))\n",
    "    name = (\n",
    "        FM[int(settings[\"feat_match\"])]\n",
    "        + \"_\"\n",
    "        + str(settings[\"num_feat\"])\n",
    "        + \"_\"\n",
    "        + str(settings[\"scale_factor\"])\n",
    "        + \"_\"\n",
    "        + str(settings[\"denoise\"])\n",
    "    )\n",
    "\n",
    "    all_poses.append(json.load(open(dir + \"/est.json\")))\n",
    "\n",
    "map = draw_maps(all_poses, no_gt=True)\n",
    "height = 1000\n",
    "width = (height / map.shape[0]) * map.shape[1]\n",
    "map = cv.resize(map, (int(width), height))\n",
    "\n",
    "plt.imshow(map)\n",
    "plt.show()\n"
   ]
  },
  {
   "cell_type": "markdown",
   "metadata": {},
   "source": []
  }
 ],
 "metadata": {
  "kernelspec": {
   "display_name": "sivenv",
   "language": "python",
   "name": "python3"
  },
  "language_info": {
   "codemirror_mode": {
    "name": "ipython",
    "version": 3
   },
   "file_extension": ".py",
   "mimetype": "text/x-python",
   "name": "python",
   "nbconvert_exporter": "python",
   "pygments_lexer": "ipython3",
   "version": "3.10.13"
  }
 },
 "nbformat": 4,
 "nbformat_minor": 2
}
