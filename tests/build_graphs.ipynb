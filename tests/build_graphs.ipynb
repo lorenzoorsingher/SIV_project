{
 "cells": [
  {
   "cell_type": "code",
   "execution_count": null,
   "metadata": {},
   "outputs": [],
   "source": [
    "import os\n",
    "import pandas as pd\n",
    "import matplotlib.pyplot as plt\n",
    "import sys \n",
    "import json\n",
    "import cv2 as cv\n",
    "\n",
    "sys.path.append(\"../\")\n",
    "\n",
    "from common import *"
   ]
  },
  {
   "cell_type": "code",
   "execution_count": null,
   "metadata": {},
   "outputs": [],
   "source": [
    "\n",
    "\n",
    "path = \"/\".join(os.getcwd().split(\"/\")[:-1]) + \"/data/output/\"\n",
    "dirs = [path + d for d in os.listdir(path) if os.path.isdir(os.path.join(path, d))]\n",
    "dirs.sort()\n",
    "fullpath = dirs[-1]\n",
    "fullpath += \"/output.csv\"\n",
    "\n",
    "#complete run\n",
    "#fullpath = '/home/lollo/Documents/python/siv/SIV_project/data/output/run_1711060911/output.csv' \n",
    "\n",
    "#scale run\n",
    "#fullpath = '/home/lollo/Documents/python/siv/SIV_project/data/output/run_171109659/output.csv' \n",
    "\n",
    "#denoise run\n",
    "#fullpath = '/home/lollo/Documents/python/siv/SIV_project/data/output/run_1711096844/output.csv' \n",
    "\n",
    "data = pd.read_csv(fullpath)\n",
    "\n"
   ]
  },
  {
   "cell_type": "markdown",
   "metadata": {},
   "source": [
    "RUN all methods 10, 100, 1000, 3000, 6000 feat\n",
    "'/home/lollo/Documents/python/siv/SIV_project/data/output/run_1710931647/output.csv' "
   ]
  },
  {
   "cell_type": "code",
   "execution_count": null,
   "metadata": {},
   "outputs": [],
   "source": []
  },
  {
   "cell_type": "code",
   "execution_count": null,
   "metadata": {},
   "outputs": [],
   "source": [
    "data.sort_values(\"err_avg\")"
   ]
  },
  {
   "cell_type": "code",
   "execution_count": null,
   "metadata": {},
   "outputs": [],
   "source": [
    "orb_knn = data[(data[\"fm\"] == \"ORB\") & (data[\"matcher\"] == \"BF_LOWE\")].sort_values(\"steps_sec\")\n",
    "orb_flann = data[(data[\"fm\"] == \"ORB\") & (data[\"matcher\"] == \"FLANN_LOWE\")].sort_values(\"steps_sec\")\n",
    "sift_knn = data[(data[\"fm\"] == \"SIFT\") & (data[\"matcher\"] == \"BF_LOWE\")].sort_values(\"steps_sec\")\n",
    "sift_flann = data[(data[\"fm\"] == \"SIFT\") & (data[\"matcher\"] == \"FLANN_LOWE\")].sort_values(\"steps_sec\")\n",
    "\n",
    "plt.plot(\n",
    "    orb_knn[\"frame_time\"],\n",
    "    orb_knn[\"err_avg\"],\n",
    "    label=\"orb_bf\",\n",
    ")  # Replace 'x_column1' and 'y_column1' with the names of your columns\n",
    "plt.plot(\n",
    "    orb_flann[\"frame_time\"],\n",
    "    orb_flann[\"err_avg\"],\n",
    "    label=\"orb_flann\",\n",
    ")  # Replace 'x_column1' and 'y_column1' with the names of your columns\n",
    "plt.plot(\n",
    "    sift_knn[\"frame_time\"],\n",
    "    sift_knn[\"err_avg\"],\n",
    "    label=\"sift_bf\",\n",
    ")  # Replace 'x_column1' and 'y_column1' with the names of your columns\n",
    "plt.plot(\n",
    "    sift_flann[\"frame_time\"],\n",
    "    sift_flann[\"err_avg\"],\n",
    "    label=\"sift_flann\",\n",
    ")  # Replace 'x_column1' and 'y_column1' with the names of your columns\n",
    "\n",
    "\n",
    "\n",
    "# Add labels and title\n",
    "plt.xlabel(\"Frame Time [ms]\")  # Replace 'X-axis label' with the label for the x-axis\n",
    "plt.ylabel(\"error\")  # Replace 'Y-axis label' with the label for the y-axis\n",
    "\n",
    "# Add a legend\n",
    "plt.legend()\n",
    "\n",
    "# Display the plot\n",
    "plt.show()"
   ]
  },
  {
   "cell_type": "code",
   "execution_count": 16,
   "metadata": {},
   "outputs": [
    {
     "name": "stdout",
     "output_type": "stream",
     "text": [
      "/home/lollo/Documents/python/siv/SIV_project/data/output/\n",
      "['/home/lollo/Documents/python/siv/SIV_project/data/output/run_171109929/eval_0', '/home/lollo/Documents/python/siv/SIV_project/data/output/run_171109929/eval_1']\n"
     ]
    },
    {
     "data": {
      "image/png": "[encoded data removed]",
      "text/plain": [
       "<Figure size 640x480 with 1 Axes>"
      ]
     },
     "metadata": {},
     "output_type": "display_data"
    }
   ],
   "source": [
    "\n",
    "\n",
    "path = \"/\".join(os.getcwd().split(\"/\")[:-1]) + \"/data/output/\"\n",
    "print(path)\n",
    "dirs = [path + d for d in os.listdir(path) if os.path.isdir(os.path.join(path, d))]\n",
    "dirs.sort()\n",
    "fullpath = dirs[-1]\n",
    "fullpath += \"/\"\n",
    "\n",
    "fullpath = \"/home/lollo/Documents/python/siv/SIV_project/data/output/run_171109929/\"\n",
    "dirs = [\n",
    "    fullpath + d\n",
    "    for d in os.listdir(fullpath)\n",
    "    if os.path.isdir(os.path.join(fullpath, d))\n",
    "]\n",
    "print(dirs)\n",
    "all_poses = []\n",
    "for dir in dirs:\n",
    "\n",
    "\n",
    "    all_poses.append(json.load(open(dir + \"/est.json\")))\n",
    "\n",
    "map = draw_maps(all_poses, no_gt=True)\n",
    "height = 1000\n",
    "width = (height / map.shape[0]) * map.shape[1]\n",
    "map = cv.resize(map, (int(width), height))\n",
    "\n",
    "plt.imshow(map)\n",
    "plt.show()\n"
   ]
  },
  {
   "cell_type": "markdown",
   "metadata": {},
   "source": []
  }
 ],
 "metadata": {
  "kernelspec": {
   "display_name": "sivenv",
   "language": "python",
   "name": "python3"
  },
  "language_info": {
   "codemirror_mode": {
    "name": "ipython",
    "version": 3
   },
   "file_extension": ".py",
   "mimetype": "text/x-python",
   "name": "python",
   "nbconvert_exporter": "python",
   "pygments_lexer": "ipython3",
   "version": "3.10.13"
  }
 },
 "nbformat": 4,
 "nbformat_minor": 2
}
